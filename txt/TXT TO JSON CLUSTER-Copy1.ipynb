{
 "cells": [
  {
   "cell_type": "code",
   "execution_count": 86,
   "metadata": {},
   "outputs": [],
   "source": [
    "## https://onlinecsvtools.com/convert-csv-to-tsv\n",
    "\n",
    "from clustergrammer import Network\n",
    "net = Network()\n",
    "net.load_file('in.tsv')"
   ]
  },
  {
   "cell_type": "code",
   "execution_count": 87,
   "metadata": {},
   "outputs": [
    {
     "name": "stdout",
     "output_type": "stream",
     "text": [
      "make_clust method will be deprecated in next version, please use cluster method.\n"
     ]
    }
   ],
   "source": [
    "# calculate clustering\n",
    "net.make_clust()"
   ]
  },
  {
   "cell_type": "code",
   "execution_count": 88,
   "metadata": {},
   "outputs": [],
   "source": [
    "# write visualization json to file\n",
    "net.write_json_to_file('viz', 'p3.json', 'indent')"
   ]
  },
  {
   "cell_type": "code",
   "execution_count": null,
   "metadata": {},
   "outputs": [],
   "source": []
  },
  {
   "cell_type": "code",
   "execution_count": 6,
   "metadata": {},
   "outputs": [],
   "source": [
    "from clustergrammer import Network\n",
    "net = Network()\n",
    "net.load_file('/home/pedro/Desktop/Código/estandarData.tsv')"
   ]
  },
  {
   "cell_type": "code",
   "execution_count": 7,
   "metadata": {},
   "outputs": [
    {
     "name": "stdout",
     "output_type": "stream",
     "text": [
      "make_clust method will be deprecated in next version, please use cluster method.\n"
     ]
    }
   ],
   "source": [
    "net.make_clust()"
   ]
  },
  {
   "cell_type": "code",
   "execution_count": 8,
   "metadata": {},
   "outputs": [],
   "source": [
    "net.write_json_to_file('viz', 'estandarData.json', 'indent')"
   ]
  },
  {
   "cell_type": "code",
   "execution_count": null,
   "metadata": {},
   "outputs": [],
   "source": []
  }
 ],
 "metadata": {
  "kernelspec": {
   "display_name": "p3.5",
   "language": "python",
   "name": "p3.5"
  },
  "language_info": {
   "codemirror_mode": {
    "name": "ipython",
    "version": 3
   },
   "file_extension": ".py",
   "mimetype": "text/x-python",
   "name": "python",
   "nbconvert_exporter": "python",
   "pygments_lexer": "ipython3",
   "version": "3.5.2"
  }
 },
 "nbformat": 4,
 "nbformat_minor": 2
}
